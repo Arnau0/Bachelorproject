{
 "cells": [
  {
   "cell_type": "code",
   "execution_count": 5,
   "metadata": {},
   "outputs": [],
   "source": [
    "import numpy as np\n",
    "import math as math\n",
    "import astropy.units as u\n",
    "import astropy.constants as c\n",
    "\n",
    "def abs_coeff_r(T, nu, n_0, r):\n",
    "    \"\"\"calculates the absorption coefficient alpha_nu that is dependent on r through the relation n = n_0*r^-2.\n",
    "    For fully ionized hydrogen, n_e = n_i & Z=1\n",
    "    T = temperature\n",
    "    nu = frequency\n",
    "    n_0 = initial number density profile\n",
    "    r = distance to absorption (from observer?) => variable\n",
    "    \"\"\"\n",
    "    C = 3.692 * (10**8)  # the  number in front of the expression\n",
    "    BB = 1 - np.exp(-(c.h * nu) / (c.k_B * T))  # term found in the blackbody spectrum\n",
    "    g = (\n",
    "        10.6 + 1.9 * np.log10(T.to_value()) + 1.26 * np.log10(nu.to_value())\n",
    "    )  # Gaunt factor\n",
    "    return (C * BB * g * (n_0**2)) / (np.sqrt(T) * (nu**3) * 4 * (r**4))"
   ]
  },
  {
   "cell_type": "code",
   "execution_count": 6,
   "metadata": {},
   "outputs": [
    {
     "name": "stdout",
     "output_type": "stream",
     "text": [
      "7.295823683134981e+20 1 / (Hz3 K(1/2) m10)\n"
     ]
    }
   ],
   "source": [
    "# example values\n",
    "T = 10**6 * u.K  # K\n",
    "nu = 10 * 8 * u.Hz  # Hz = 100 MHz\n",
    "n_0 = 10**35 * (u.meter ** (-3))  # m^-3\n",
    "\n",
    "example_value = abs_coeff_r(T, nu, n_0, 1 * c.R_sun)\n",
    "print(example_value)"
   ]
  },
  {
   "cell_type": "code",
   "execution_count": 30,
   "metadata": {},
   "outputs": [
    {
     "data": {
      "image/png": "[encoded data removed]",
      "text/plain": [
       "<Figure size 432x288 with 1 Axes>"
      ]
     },
     "metadata": {
      "needs_background": "light"
     },
     "output_type": "display_data"
    }
   ],
   "source": [
    "#plot a alpha_nu - r diagram\n",
    "import matplotlib.pyplot as plt\n",
    "\n",
    "r_list = [(x*c.R_sun).to_value() for x in range(1, 10)]\n",
    "alpha_nu_list = [abs_coeff_r(T, nu, n_0, y).to_value() for y in r_list]\n",
    "#print(alpha_nu_list)\n",
    "\n",
    "#just to check the shape of the function\n",
    "a_r = plt.subplot()\n",
    "a_r.plot(r_list, alpha_nu_list)\n",
    "a_r.set_xlabel(\"r (m)\")\n",
    "a_r.set_ylabel(\"absorption coefficient\")\n",
    "plt.show()"
   ]
  },
  {
   "cell_type": "markdown",
   "metadata": {},
   "source": [
    "The absorption coefficient (AC) was derived using the density profile which decreases as r^-2. While calculating the AC, I used astropy units to see the resulting units of the AC. However, I'm not sure if these are the right units as I have left the Gaunt factor to be dimensionless (the code doesn't compute the log of a dimensionful variable). \n",
    "\n",
    "The plot makes sense as r^-4, but plots for any r really as I don't know what values the AC should be/is expected to be. "
   ]
  },
  {
   "cell_type": "code",
   "execution_count": 33,
   "metadata": {},
   "outputs": [],
   "source": [
    "def opt_depth(d):\n",
    "    \"\"\"calculate the optical depth given a radius from which the absorption coefficient is obtained.\n",
    "    d = distance to absorption, from observer\n",
    "    \"\"\"\n",
    "    #take 20 steps, for instance\n",
    "    #taking d to be up to the position of the planet\n",
    "    dr = d/20\n",
    "    dr_array = np.arange(1, d, dr)\n",
    "    tau_nu = 0\n",
    "\n",
    "    for r in dr_array:\n",
    "        print(r)\n",
    "        alpha_nu = abs_coeff_r(T, nu, n_0, r)\n",
    "        tau_nu += alpha_nu*dr\n",
    "    \n",
    "    return tau_nu"
   ]
  },
  {
   "cell_type": "markdown",
   "metadata": {},
   "source": [
    "The method I use in calculating the optical depth (OD) is by summing all the contributions from each new r + dr times the AC at that r."
   ]
  },
  {
   "cell_type": "code",
   "execution_count": 34,
   "metadata": {},
   "outputs": [
    {
     "name": "stdout",
     "output_type": "stream",
     "text": [
      "1.0\n",
      "1542838790745684.5\n",
      "3085677581491368.0\n",
      "4628516372237051.0\n",
      "6171355162982735.0\n",
      "7714193953728419.0\n",
      "9257032744474100.0\n",
      "1.0799871535219784e+16\n",
      "1.2342710325965468e+16\n",
      "1.3885549116711152e+16\n",
      "1.5428387907456836e+16\n",
      "1.697122669820252e+16\n",
      "1.85140654889482e+16\n",
      "2.0056904279693884e+16\n",
      "2.159974307043957e+16\n",
      "2.3142581861185252e+16\n",
      "2.4685420651930936e+16\n",
      "2.622825944267662e+16\n",
      "2.7771098233422304e+16\n",
      "2.9313937024167988e+16\n",
      "2.636834625147468e+71 1 / (Hz3 K(1/2) m6)\n"
     ]
    }
   ],
   "source": [
    "example_OD = opt_depth(c.pc.to_value())\n",
    "print(example_OD)"
   ]
  },
  {
   "cell_type": "code",
   "execution_count": null,
   "metadata": {},
   "outputs": [],
   "source": []
  }
 ],
 "metadata": {
  "kernelspec": {
   "display_name": "zon",
   "language": "python",
   "name": "python3"
  },
  "language_info": {
   "codemirror_mode": {
    "name": "ipython",
    "version": 3
   },
   "file_extension": ".py",
   "mimetype": "text/x-python",
   "name": "python",
   "nbconvert_exporter": "python",
   "pygments_lexer": "ipython3",
   "version": "3.9.7"
  }
 },
 "nbformat": 4,
 "nbformat_minor": 2
}
