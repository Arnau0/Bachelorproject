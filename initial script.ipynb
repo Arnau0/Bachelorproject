{
 "cells": [
  {
   "cell_type": "code",
   "execution_count": 53,
   "metadata": {},
   "outputs": [],
   "source": [
    "import numpy as np\n",
    "import math as math\n",
    "\n",
    "# physical constants in cgs units\n",
    "c = 29979245800 # cm/s\n",
    "h = 6.62507015 / (10**41) # erg s\n",
    "k_B = 1.380649 / (10**30) # erg/K\n",
    "R_sun = 6.96 * (10**10) # cm\n",
    "pc = 3.08567758 * (10**18) # cm\n",
    "\n",
    "def abs_coeff_r(T, nu, n_0, r):\n",
    "    \"\"\"calculates the absorption coefficient alpha_nu that is dependent on r through the relation n = n_0*r^-2.\n",
    "    For fully ionized hydrogen, n_e = n_i & Z=1\n",
    "    T = temperature\n",
    "    nu = frequency\n",
    "    n_0 = initial number density profile\n",
    "    r = distance to absorption (from observer?) => variable\n",
    "    \"\"\"\n",
    "    C = 3.692 * (10**8)  # the  number in front of the expression\n",
    "    BB = 1 - np.exp(-(h * nu) / (k_B * T))  # term found in the blackbody spectrum\n",
    "    g = (\n",
    "        10.6 + 1.9 * np.log10(T) + 1.26 * np.log10(nu)\n",
    "    )  # Gaunt factor\n",
    "    return (C * BB * g * (n_0**2)) / (np.sqrt(T) * (nu**3) * 4 * (r**4))"
   ]
  },
  {
   "cell_type": "code",
   "execution_count": 54,
   "metadata": {},
   "outputs": [
    {
     "name": "stdout",
     "output_type": "stream",
     "text": [
      "6.05489063569352e-54\n"
     ]
    }
   ],
   "source": [
    "# example values from Kavanagh et al. (2020)\n",
    "T = 10**6  # K\n",
    "nu = 10 ** 8 # Hz = 100 MHz\n",
    "n_0 = 10**8  # cm^-3\n",
    "\n",
    "example_value = abs_coeff_r(T, nu, n_0, R_sun)\n",
    "print(example_value)"
   ]
  },
  {
   "cell_type": "code",
   "execution_count": 55,
   "metadata": {},
   "outputs": [
    {
     "data": {
      "image/png": "[encoded data removed]",
      "text/plain": [
       "<Figure size 432x288 with 1 Axes>"
      ]
     },
     "metadata": {
      "needs_background": "light"
     },
     "output_type": "display_data"
    }
   ],
   "source": [
    "#plot a alpha_nu - r diagram\n",
    "import matplotlib.pyplot as plt\n",
    "\n",
    "r_list = [(x*R_sun) for x in range(1, 10)]\n",
    "alpha_nu_list = [abs_coeff_r(T, nu, n_0, y) for y in r_list]\n",
    "#print(alpha_nu_list)\n",
    "\n",
    "#just to check the shape of the function\n",
    "a_r = plt.subplot()\n",
    "a_r.plot(r_list, alpha_nu_list)\n",
    "a_r.set_xlabel(\"r (m)\")\n",
    "a_r.set_ylabel(\"absorption coefficient\")\n",
    "plt.show()"
   ]
  },
  {
   "cell_type": "markdown",
   "metadata": {},
   "source": [
    "The absorption coefficient (AC) was derived using the density profile which decreases as r^-2. While calculating the AC, I used astropy units to see the resulting units of the AC. However, I'm not sure if these are the right units as I have left the Gaunt factor to be dimensionless (the code doesn't compute the log of a dimensionful variable). \n",
    "\n",
    "The plot makes sense as r^-4, but plots for any r really as I don't know what values the AC should be/is expected to be. "
   ]
  },
  {
   "cell_type": "code",
   "execution_count": 56,
   "metadata": {},
   "outputs": [],
   "source": [
    "def opt_depth(d):\n",
    "    \"\"\"calculate the optical depth given a radius from which the absorption coefficient is obtained.\n",
    "    d = distance to absorption, from observer\n",
    "    \"\"\"\n",
    "    #take 20 steps, for instance\n",
    "    #taking d to be up to the position of the planet\n",
    "    dr = d/20\n",
    "    dr_array = np.arange(1, d, dr)\n",
    "    tau_nu = 0\n",
    "\n",
    "    # for each dr, calculate and add up d\\tau at the r+dr position\n",
    "    for r in dr_array:\n",
    "        #print(r)\n",
    "        alpha_nu = abs_coeff_r(T, nu, n_0, r)\n",
    "        tau_nu += alpha_nu*dr\n",
    "    \n",
    "    return tau_nu"
   ]
  },
  {
   "cell_type": "markdown",
   "metadata": {},
   "source": [
    "The method I use in calculating the optical depth (OD) is by summing all the contributions from each new r + dr times the AC at that r."
   ]
  },
  {
   "cell_type": "code",
   "execution_count": 57,
   "metadata": {},
   "outputs": [
    {
     "name": "stdout",
     "output_type": "stream",
     "text": [
      "21921174.088152245\n"
     ]
    }
   ],
   "source": [
    "example_OD = opt_depth(pc)\n",
    "print(example_OD)"
   ]
  },
  {
   "cell_type": "code",
   "execution_count": 84,
   "metadata": {},
   "outputs": [
    {
     "name": "stdout",
     "output_type": "stream",
     "text": [
      "[[2.48242805e-16 2.75740469e-16 3.05855469e-16 3.38172273e-16\n",
      "  3.71849180e-16 4.05500690e-16 4.37149524e-16 4.64329805e-16\n",
      "  4.84408932e-16 4.95114102e-16 4.95114102e-16 4.84408932e-16\n",
      "  4.64329805e-16 4.37149524e-16 4.05500690e-16 3.71849180e-16\n",
      "  3.38172273e-16 3.05855469e-16 2.75740469e-16 2.48242805e-16]\n",
      " [2.75740469e-16 3.10088763e-16 3.48699037e-16 3.91334727e-16\n",
      "  4.37149524e-16 4.84408932e-16 5.30270133e-16 5.70800334e-16\n",
      "  6.01447332e-16 6.18038982e-16 6.18038982e-16 6.01447332e-16\n",
      "  5.70800334e-16 5.30270133e-16 4.84408932e-16 4.37149524e-16\n",
      "  3.91334727e-16 3.48699037e-16 3.10088763e-16 2.75740469e-16]\n",
      " [3.05855469e-16 3.48699037e-16 3.98291789e-16 4.54901789e-16\n",
      "  5.18009552e-16 5.85723219e-16 6.54128850e-16 7.16925219e-16\n",
      "  7.65945747e-16 7.93058871e-16 7.93058871e-16 7.65945747e-16\n",
      "  7.16925219e-16 6.54128850e-16 5.85723219e-16 5.18009552e-16\n",
      "  4.54901789e-16 3.98291789e-16 3.48699037e-16 3.05855469e-16]\n",
      " [3.38172273e-16 3.91334727e-16 4.54901789e-16 5.30270133e-16\n",
      "  6.18038982e-16 7.16925219e-16 8.22161949e-16 9.23872706e-16\n",
      "  1.00691744e-15 1.05430179e-15 1.05430179e-15 1.00691744e-15\n",
      "  9.23872706e-16 8.22161949e-16 7.16925219e-16 6.18038982e-16\n",
      "  5.30270133e-16 4.54901789e-16 3.91334727e-16 3.38172273e-16]\n",
      " [3.71849180e-16 4.37149524e-16 5.18009552e-16 6.18038982e-16\n",
      "  7.40625227e-16 8.87283687e-16 1.05430179e-15 1.22761168e-15\n",
      "  1.37870235e-15 1.46910906e-15 1.46910906e-15 1.37870235e-15\n",
      "  1.22761168e-15 1.05430179e-15 8.87283687e-16 7.40625227e-16\n",
      "  6.18038982e-16 5.18009552e-16 4.37149524e-16 3.71849180e-16]\n",
      " [4.05500690e-16 4.84408932e-16 5.85723219e-16 7.16925219e-16\n",
      "  8.87283687e-16 1.10636608e-15 1.37870235e-15 1.69086137e-15\n",
      "  1.99145894e-15 2.18574762e-15 2.18574762e-15 1.99145894e-15\n",
      "  1.69086137e-15 1.37870235e-15 1.10636608e-15 8.87283687e-16\n",
      "  7.16925219e-16 5.85723219e-16 4.84408932e-16 4.05500690e-16]\n",
      " [4.37149524e-16 5.30270133e-16 6.54128850e-16 8.22161949e-16\n",
      "  1.05430179e-15 1.37870235e-15 1.82889087e-15 2.42204466e-15\n",
      "  3.09019491e-15 3.58462610e-15 3.58462610e-15 3.09019491e-15\n",
      "  2.42204466e-15 1.82889087e-15 1.37870235e-15 1.05430179e-15\n",
      "  8.22161949e-16 6.54128850e-16 5.30270133e-16 4.37149524e-16]\n",
      " [4.64329805e-16 5.70800334e-16 7.16925219e-16 9.23872706e-16\n",
      "  1.22761168e-15 1.69086137e-15 2.42204466e-15 3.58462610e-15\n",
      "  5.27150897e-15 6.89351173e-15 6.89351173e-15 5.27150897e-15\n",
      "  3.58462610e-15 2.42204466e-15 1.69086137e-15 1.22761168e-15\n",
      "  9.23872706e-16 7.16925219e-16 5.70800334e-16 4.64329805e-16]\n",
      " [4.84408932e-16 6.01447332e-16 7.65945747e-16 1.00691744e-15\n",
      "  1.37870235e-15 1.99145894e-15 3.09019491e-15 5.27150897e-15\n",
      "  9.95729472e-15 1.79231305e-14 1.79231305e-14 9.95729472e-15\n",
      "  5.27150897e-15 3.09019491e-15 1.99145894e-15 1.37870235e-15\n",
      "  1.00691744e-15 7.65945747e-16 6.01447332e-16 4.84408932e-16]\n",
      " [4.95114102e-16 6.18038982e-16 7.93058871e-16 1.05430179e-15\n",
      "  1.46910906e-15 2.18574762e-15 3.58462610e-15 6.89351173e-15\n",
      "  1.79231305e-14 8.96156524e-14 8.96156524e-14 1.79231305e-14\n",
      "  6.89351173e-15 3.58462610e-15 2.18574762e-15 1.46910906e-15\n",
      "  1.05430179e-15 7.93058871e-16 6.18038982e-16 4.95114102e-16]\n",
      " [4.95114102e-16 6.18038982e-16 7.93058871e-16 1.05430179e-15\n",
      "  1.46910906e-15 2.18574762e-15 3.58462610e-15 6.89351173e-15\n",
      "  1.79231305e-14 8.96156524e-14 8.96156524e-14 1.79231305e-14\n",
      "  6.89351173e-15 3.58462610e-15 2.18574762e-15 1.46910906e-15\n",
      "  1.05430179e-15 7.93058871e-16 6.18038982e-16 4.95114102e-16]\n",
      " [4.84408932e-16 6.01447332e-16 7.65945747e-16 1.00691744e-15\n",
      "  1.37870235e-15 1.99145894e-15 3.09019491e-15 5.27150897e-15\n",
      "  9.95729472e-15 1.79231305e-14 1.79231305e-14 9.95729472e-15\n",
      "  5.27150897e-15 3.09019491e-15 1.99145894e-15 1.37870235e-15\n",
      "  1.00691744e-15 7.65945747e-16 6.01447332e-16 4.84408932e-16]\n",
      " [4.64329805e-16 5.70800334e-16 7.16925219e-16 9.23872706e-16\n",
      "  1.22761168e-15 1.69086137e-15 2.42204466e-15 3.58462610e-15\n",
      "  5.27150897e-15 6.89351173e-15 6.89351173e-15 5.27150897e-15\n",
      "  3.58462610e-15 2.42204466e-15 1.69086137e-15 1.22761168e-15\n",
      "  9.23872706e-16 7.16925219e-16 5.70800334e-16 4.64329805e-16]\n",
      " [4.37149524e-16 5.30270133e-16 6.54128850e-16 8.22161949e-16\n",
      "  1.05430179e-15 1.37870235e-15 1.82889087e-15 2.42204466e-15\n",
      "  3.09019491e-15 3.58462610e-15 3.58462610e-15 3.09019491e-15\n",
      "  2.42204466e-15 1.82889087e-15 1.37870235e-15 1.05430179e-15\n",
      "  8.22161949e-16 6.54128850e-16 5.30270133e-16 4.37149524e-16]\n",
      " [4.05500690e-16 4.84408932e-16 5.85723219e-16 7.16925219e-16\n",
      "  8.87283687e-16 1.10636608e-15 1.37870235e-15 1.69086137e-15\n",
      "  1.99145894e-15 2.18574762e-15 2.18574762e-15 1.99145894e-15\n",
      "  1.69086137e-15 1.37870235e-15 1.10636608e-15 8.87283687e-16\n",
      "  7.16925219e-16 5.85723219e-16 4.84408932e-16 4.05500690e-16]\n",
      " [3.71849180e-16 4.37149524e-16 5.18009552e-16 6.18038982e-16\n",
      "  7.40625227e-16 8.87283687e-16 1.05430179e-15 1.22761168e-15\n",
      "  1.37870235e-15 1.46910906e-15 1.46910906e-15 1.37870235e-15\n",
      "  1.22761168e-15 1.05430179e-15 8.87283687e-16 7.40625227e-16\n",
      "  6.18038982e-16 5.18009552e-16 4.37149524e-16 3.71849180e-16]\n",
      " [3.38172273e-16 3.91334727e-16 4.54901789e-16 5.30270133e-16\n",
      "  6.18038982e-16 7.16925219e-16 8.22161949e-16 9.23872706e-16\n",
      "  1.00691744e-15 1.05430179e-15 1.05430179e-15 1.00691744e-15\n",
      "  9.23872706e-16 8.22161949e-16 7.16925219e-16 6.18038982e-16\n",
      "  5.30270133e-16 4.54901789e-16 3.91334727e-16 3.38172273e-16]\n",
      " [3.05855469e-16 3.48699037e-16 3.98291789e-16 4.54901789e-16\n",
      "  5.18009552e-16 5.85723219e-16 6.54128850e-16 7.16925219e-16\n",
      "  7.65945747e-16 7.93058871e-16 7.93058871e-16 7.65945747e-16\n",
      "  7.16925219e-16 6.54128850e-16 5.85723219e-16 5.18009552e-16\n",
      "  4.54901789e-16 3.98291789e-16 3.48699037e-16 3.05855469e-16]\n",
      " [2.75740469e-16 3.10088763e-16 3.48699037e-16 3.91334727e-16\n",
      "  4.37149524e-16 4.84408932e-16 5.30270133e-16 5.70800334e-16\n",
      "  6.01447332e-16 6.18038982e-16 6.18038982e-16 6.01447332e-16\n",
      "  5.70800334e-16 5.30270133e-16 4.84408932e-16 4.37149524e-16\n",
      "  3.91334727e-16 3.48699037e-16 3.10088763e-16 2.75740469e-16]\n",
      " [2.48242805e-16 2.75740469e-16 3.05855469e-16 3.38172273e-16\n",
      "  3.71849180e-16 4.05500690e-16 4.37149524e-16 4.64329805e-16\n",
      "  4.84408932e-16 4.95114102e-16 4.95114102e-16 4.84408932e-16\n",
      "  4.64329805e-16 4.37149524e-16 4.05500690e-16 3.71849180e-16\n",
      "  3.38172273e-16 3.05855469e-16 2.75740469e-16 2.48242805e-16]]\n"
     ]
    }
   ],
   "source": [
    "# constant in cgs units\n",
    "au = 1.49597871 * (10**13) # cm\n",
    "\n",
    "def dens_profile(r):    # calculate the density profile which goes as r^-2\n",
    "    return n_0/(r**2)\n",
    "\n",
    "#2D grid\n",
    "L_grid = 20 # 20 by 20 lattice sites\n",
    "wind_coordinate_system = np.linspace((-0.03*au, -0.03*au), (0.03*au, 0.03*au), L_grid) # axes of x & y, this is not a 2d grid!\n",
    "density_wind_slice = np.zeros((L_grid, L_grid)) # 2d grid for the number density\n",
    "r_wind_slice = np.zeros((L_grid,L_grid)) # 2d grid for the coordinates in r\n",
    "\n",
    "# here we fill the grid with the corresponding number density at position (x,y)\n",
    "for i in range(L_grid):\n",
    "    for j in range(L_grid):\n",
    "        x = wind_coordinate_system[i, 0]\n",
    "        y = wind_coordinate_system[j, 1]\n",
    "\n",
    "        # since the center of the grid is the origin, r is found using pythagoras\n",
    "        r = np.sqrt(x**2 + y**2)\n",
    "        r_wind_slice[i,j] = r\n",
    "\n",
    "        n_ij = dens_profile(r)\n",
    "        density_wind_slice[i, j] = n_ij\n",
    "\n",
    "print(density_wind_slice)"
   ]
  },
  {
   "cell_type": "markdown",
   "metadata": {},
   "source": [
    "Above, I have made a 2D grid of coordinates x & y. The center of the wind is taken as the origin of the grid. This grid took inspiration from the right figure in fig. 2 in Kavanagh et al. (2020). The density profile is calculated using n = n_0 * r^-2 and r is simply the direct distance from the origin to point (x,y). I might make a color diagram to see if the density profile is symmetrically (and thus correctly) distributed from the origin over the grid.\n",
    "\n",
    "Here is the important part: r in the number density is taken as a radius with origin of the wind. d in the optical depth is the distance where the observer's position is the origin. This distance d is defined along the line of sight which is what we use to determine the OD of this grid in the following note/block."
   ]
  },
  {
   "cell_type": "code",
   "execution_count": 85,
   "metadata": {},
   "outputs": [],
   "source": [
    "def abs_coeff_n(T, nu, n):\n",
    "    \"\"\"calculates the absorption coefficient alpha_nu that is dependent on n through the relation n = 2*n_e.\n",
    "    T = temperature\n",
    "    nu = frequency\n",
    "    n = calculated number density profile value\n",
    "    \"\"\"\n",
    "    C = 3.692 * (10**8)  # the  number in front of the expression\n",
    "    BB = 1 - np.exp(-(h * nu) / (k_B * T))  # term found in the blackbody spectrum\n",
    "    g = (\n",
    "        10.6 + 1.9 * np.log10(T) + 1.26 * np.log10(nu)\n",
    "    )  # Gaunt factor\n",
    "    return C * BB * g * ((n**2)/(np.sqrt(T)*(nu**3)*4))\n",
    "\n"
   ]
  },
  {
   "cell_type": "code",
   "execution_count": null,
   "metadata": {},
   "outputs": [],
   "source": []
  }
 ],
 "metadata": {
  "kernelspec": {
   "display_name": "zon",
   "language": "python",
   "name": "python3"
  },
  "language_info": {
   "codemirror_mode": {
    "name": "ipython",
    "version": 3
   },
   "file_extension": ".py",
   "mimetype": "text/x-python",
   "name": "python",
   "nbconvert_exporter": "python",
   "pygments_lexer": "ipython3",
   "version": "3.9.7"
  }
 },
 "nbformat": 4,
 "nbformat_minor": 2
}
