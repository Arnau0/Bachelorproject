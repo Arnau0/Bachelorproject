{
 "cells": [
  {
   "cell_type": "code",
   "execution_count": 112,
   "metadata": {},
   "outputs": [],
   "source": [
    "import numpy as np\n",
    "import math as math\n",
    "\n",
    "# physical constants in cgs units\n",
    "c = 29979245800 # cm/s\n",
    "h = 6.62507015 / (10**41) # erg s\n",
    "k_B = 1.380649 / (10**30) # erg/K\n",
    "R_sun = 6.96 * (10**10) # cm\n",
    "pc = 3.08567758 * (10**18) # cm\n",
    "\n",
    "def abs_coeff_r(T, nu, n_0, r):\n",
    "    \"\"\"calculates the absorption coefficient alpha_nu that is dependent on r through the relation n = n_0*r^-2.\n",
    "    For fully ionized hydrogen, n_e = n_i & Z=1\n",
    "    T = temperature\n",
    "    nu = frequency\n",
    "    n_0 = initial number density profile\n",
    "    r = distance to absorption (from observer?) => variable\n",
    "    \"\"\"\n",
    "    C = 3.692 * (10**8)  # the  number in front of the expression\n",
    "    BB = 1 - np.exp(-(h * nu) / (k_B * T))  # term found in the blackbody spectrum\n",
    "    g = (\n",
    "        10.6 + 1.9 * np.log10(T) + 1.26 * np.log10(nu)\n",
    "    )  # Gaunt factor\n",
    "    return (C * BB * g * (n_0**2)) / (np.sqrt(T) * (nu**3) * 4 * (r**4))\n",
    "\n",
    "def abs_coeff_n(T, nu, n):\n",
    "    \"\"\"calculates the absorption coefficient alpha_nu that is dependent on n through the relation n = 2*n_e.\n",
    "    T = temperature\n",
    "    nu = frequency\n",
    "    n = calculated number density profile value\n",
    "    \"\"\"\n",
    "    C = 3.692 * (10**8)  # the  number in front of the expression\n",
    "    BB = 1 - np.exp(-(h * nu) / (k_B * T))  # term found in the blackbody spectrum\n",
    "    g = (\n",
    "        10.6 + 1.9 * np.log10(T) + 1.26 * np.log10(nu)\n",
    "    )  # Gaunt factor\n",
    "    return C * BB * g * ((n**2)/(np.sqrt(T)*(nu**3)*4))"
   ]
  },
  {
   "cell_type": "code",
   "execution_count": 113,
   "metadata": {},
   "outputs": [
    {
     "name": "stdout",
     "output_type": "stream",
     "text": [
      "6.05489063569352e-54\n"
     ]
    }
   ],
   "source": [
    "# example values from Kavanagh et al. (2020)\n",
    "T = 10**6  # K\n",
    "nu = 10 ** 8 # Hz = 100 MHz\n",
    "n_0 = 10**8  # cm^-3\n",
    "\n",
    "example_value = abs_coeff_r(T, nu, n_0, R_sun)\n",
    "print(example_value)"
   ]
  },
  {
   "cell_type": "code",
   "execution_count": 114,
   "metadata": {},
   "outputs": [
    {
     "data": {
      "image/png": "[encoded data removed]",
      "text/plain": [
       "<Figure size 432x288 with 1 Axes>"
      ]
     },
     "metadata": {
      "needs_background": "light"
     },
     "output_type": "display_data"
    }
   ],
   "source": [
    "#plot a alpha_nu - r diagram\n",
    "import matplotlib.pyplot as plt\n",
    "\n",
    "r_list = [(x*R_sun) for x in range(1, 10)]\n",
    "alpha_nu_list = [abs_coeff_r(T, nu, n_0, y) for y in r_list]\n",
    "#print(alpha_nu_list)\n",
    "\n",
    "#just to check the shape of the function\n",
    "a_r = plt.subplot()\n",
    "a_r.plot(r_list, alpha_nu_list)\n",
    "a_r.set_xlabel(\"r (m)\")\n",
    "a_r.set_ylabel(\"absorption coefficient\")\n",
    "plt.show()"
   ]
  },
  {
   "cell_type": "markdown",
   "metadata": {},
   "source": [
    "The absorption coefficient (AC) was derived using the density profile which decreases as r^-2. While calculating the AC, I used astropy units to see the resulting units of the AC. However, I'm not sure if these are the right units as I have left the Gaunt factor to be dimensionless (the code doesn't compute the log of a dimensionful variable). \n",
    "\n",
    "The plot makes sense as r^-4, but plots for any r really as I don't know what values the AC should be/is expected to be. "
   ]
  },
  {
   "cell_type": "code",
   "execution_count": 115,
   "metadata": {},
   "outputs": [],
   "source": [
    "def opt_depth(d):\n",
    "    \"\"\"calculate the optical depth given a radius from which the absorption coefficient is obtained.\n",
    "    d = distance to absorption, from observer\n",
    "    \"\"\"\n",
    "    #take 20 steps, for instance\n",
    "    #taking d to be up to the position of the planet\n",
    "    dr = d/20\n",
    "    dr_array = np.arange(1, d, dr)\n",
    "    tau_nu = 0\n",
    "\n",
    "    # for each dr, calculate and add up d\\tau at the r+dr position\n",
    "    for r in dr_array:\n",
    "        #print(r)\n",
    "        alpha_nu = abs_coeff_r(T, nu, n_0, r)\n",
    "        tau_nu += alpha_nu*dr\n",
    "    \n",
    "    return tau_nu"
   ]
  },
  {
   "cell_type": "markdown",
   "metadata": {},
   "source": [
    "The method I use in calculating the optical depth (OD) is by summing all the contributions from each new r + dr times the AC at that r."
   ]
  },
  {
   "cell_type": "code",
   "execution_count": 116,
   "metadata": {},
   "outputs": [
    {
     "name": "stdout",
     "output_type": "stream",
     "text": [
      "21921174.088152245\n"
     ]
    }
   ],
   "source": [
    "example_OD = opt_depth(pc)\n",
    "print(example_OD)"
   ]
  },
  {
   "cell_type": "code",
   "execution_count": 117,
   "metadata": {},
   "outputs": [],
   "source": [
    "# constant in cgs units\n",
    "au = 1.49597871 * (10**13) # cm\n",
    "\n",
    "def dens_profile(r):    # calculate the density profile which goes as r^-2\n",
    "    return n_0/(r**2)\n",
    "\n",
    "#2D grid\n",
    "L_grid = 100\n",
    "wind_coordinate_system = np.linspace((-0.03*au, -0.03*au), (0.03*au, 0.03*au), L_grid) # axes of x & y, this is not a 2d grid!\n",
    "\n",
    "# here we fill the grid with the corresponding number density at position (x,y)\n",
    "# now using numpy meshgrid, was originally two for loops which is very inefficient\n",
    "x, y = np.meshgrid(wind_coordinate_system[:, 0], wind_coordinate_system[:, 1], indexing='ij')\n",
    "r = (x**2 + y**2)**0.5 # 2d grid with r vector\n",
    "n = dens_profile(r) # 2d grid with number density profile\n"
   ]
  },
  {
   "cell_type": "code",
   "execution_count": 118,
   "metadata": {},
   "outputs": [
    {
     "data": {
      "text/plain": [
       "<matplotlib.image.AxesImage at 0x1d2aba82ee0>"
      ]
     },
     "execution_count": 118,
     "metadata": {},
     "output_type": "execute_result"
    },
    {
     "data": {
      "image/png": "[encoded data removed]",
      "text/plain": [
       "<Figure size 432x288 with 1 Axes>"
      ]
     },
     "metadata": {
      "needs_background": "light"
     },
     "output_type": "display_data"
    }
   ],
   "source": [
    "from matplotlib.colors import LogNorm\n",
    "\n",
    "#log normalized plot of a slice of the wind\n",
    "plt.imshow(n, norm=LogNorm())"
   ]
  },
  {
   "cell_type": "markdown",
   "metadata": {},
   "source": [
    "Above, I have made a 2D grid of coordinates x & y. The center of the wind is taken as the origin of the grid. This grid took inspiration from the right figure in fig. 2 in Kavanagh et al. (2020). The density profile is calculated using n = n_0 * r^-2 and r is simply the direct distance from the origin to point (x,y). I might make a color diagram to see if the density profile is symmetrically (and thus correctly) distributed from the origin over the grid.\n",
    "\n",
    "Here is the important part: r in the number density is taken as a radius with origin of the wind. d in the optical depth is the distance where the observer's position is the origin. This distance d is defined along the line of sight which is what we use to determine the OD of this grid in the following note/block."
   ]
  },
  {
   "cell_type": "code",
   "execution_count": null,
   "metadata": {},
   "outputs": [],
   "source": []
  }
 ],
 "metadata": {
  "kernelspec": {
   "display_name": "zon",
   "language": "python",
   "name": "python3"
  },
  "language_info": {
   "codemirror_mode": {
    "name": "ipython",
    "version": 3
   },
   "file_extension": ".py",
   "mimetype": "text/x-python",
   "name": "python",
   "nbconvert_exporter": "python",
   "pygments_lexer": "ipython3",
   "version": "3.9.7"
  }
 },
 "nbformat": 4,
 "nbformat_minor": 2
}
