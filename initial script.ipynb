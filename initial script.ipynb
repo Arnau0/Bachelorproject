{
 "cells": [
  {
   "cell_type": "code",
   "execution_count": 167,
   "metadata": {},
   "outputs": [],
   "source": [
    "import numpy as np\n",
    "import math as math\n",
    "\n",
    "# physical constants in cgs units\n",
    "# obtained from https://www.physics.rutgers.edu/~abrooks/342/constants.html\n",
    "c = 29979245800 # cm/s\n",
    "h = 6.62507015 / (10**27) # cm^2 g s^-1\n",
    "k_B = 1.380649 / (10**16) # cm^2 g s^-2 K^-1\n",
    "R_sun = 6.96 * (10**10) # cm\n",
    "pc = 3.08567758 * (10**18) # cm\n",
    "\n",
    "def abs_coeff_r(T, nu, n_0, r):\n",
    "    \"\"\"calculates the absorption coefficient alpha_nu that is dependent on r through the relation n = n_0*r^-2.\n",
    "    For fully ionized hydrogen, n_e = n_i & Z=1\n",
    "    T = temperature\n",
    "    nu = frequency\n",
    "    n_0 = initial number density profile\n",
    "    r = distance to absorption (from observer?) => variable\n",
    "    \"\"\"\n",
    "    C = 3.692 * (10**8)  # the  number in front of the expression\n",
    "    BB = 1 - np.exp(-(h * nu) / (k_B * T))  # term found in the blackbody spectrum\n",
    "    g = (\n",
    "        10.6 + 1.9 * np.log10(T) + 1.26 * np.log10(nu)\n",
    "    )  # Gaunt factor\n",
    "    return (C * BB * g * (n_0**2)) / (np.sqrt(T) * (nu**3) * 4 * (r**4))\n",
    "\n",
    "def abs_coeff_n(T, nu, n):\n",
    "    \"\"\"calculates the absorption coefficient alpha_nu that is dependent on n through the relation n = 2*n_e.\n",
    "    T = temperature\n",
    "    nu = frequency\n",
    "    n = calculated number density profile value\n",
    "    \"\"\"\n",
    "    C = 3.692 * (10**8)  # the  number in front of the expression\n",
    "    BB = 1 - np.exp(-(h * nu) / (k_B * T))  # term found in the blackbody spectrum\n",
    "    g = (\n",
    "        10.6 + 1.9 * np.log10(T) + 1.26 * np.log10(nu)\n",
    "    )  # Gaunt factor\n",
    "    return C * BB * g * ((n**2)/(np.sqrt(T)*(nu**3)*4))"
   ]
  },
  {
   "cell_type": "code",
   "execution_count": 168,
   "metadata": {},
   "outputs": [
    {
     "name": "stdout",
     "output_type": "stream",
     "text": [
      "6.05489063569352e-54\n"
     ]
    }
   ],
   "source": [
    "# example values from Kavanagh et al. (2020)\n",
    "T = 10**6  # K\n",
    "nu = 10 ** 8 # Hz = 100 MHz\n",
    "n_0 = 10**8  # cm^-3\n",
    "\n",
    "example_value = abs_coeff_r(T, nu, n_0, R_sun)\n",
    "print(example_value)"
   ]
  },
  {
   "cell_type": "code",
   "execution_count": 169,
   "metadata": {},
   "outputs": [
    {
     "data": {
      "image/png": "[encoded data removed]",
      "text/plain": [
       "<Figure size 432x288 with 1 Axes>"
      ]
     },
     "metadata": {
      "needs_background": "light"
     },
     "output_type": "display_data"
    }
   ],
   "source": [
    "#plot a alpha_nu - r diagram\n",
    "import matplotlib.pyplot as plt\n",
    "\n",
    "r_list = [(x*R_sun) for x in range(1, 10)]\n",
    "alpha_nu_list = [abs_coeff_r(T, nu, n_0, y) for y in r_list]\n",
    "#print(alpha_nu_list)\n",
    "\n",
    "#just to check the shape of the function\n",
    "a_r = plt.subplot()\n",
    "a_r.plot(r_list, alpha_nu_list)\n",
    "a_r.set_xlabel(\"r (m)\")\n",
    "a_r.set_ylabel(\"absorption coefficient\")\n",
    "plt.show()"
   ]
  },
  {
   "cell_type": "markdown",
   "metadata": {},
   "source": [
    "The absorption coefficient (AC) was derived using the density profile which decreases as r^-2. While calculating the AC, I used astropy units to see the resulting units of the AC. However, I'm not sure if these are the right units as I have left the Gaunt factor to be dimensionless (the code doesn't compute the log of a dimensionful variable). \n",
    "\n",
    "The plot makes sense as r^-4, but plots for any r really as I don't know what values the AC should be/is expected to be. "
   ]
  },
  {
   "cell_type": "code",
   "execution_count": 170,
   "metadata": {},
   "outputs": [],
   "source": [
    "def opt_depth(d):\n",
    "    \"\"\"calculate the optical depth given a radius from which the absorption coefficient is obtained.\n",
    "    d = distance to absorption, from observer\n",
    "    \"\"\"\n",
    "    #take 20 steps, for instance\n",
    "    #taking d to be up to the position of the planet\n",
    "    dr = d/20\n",
    "    dr_array = np.arange(1, d, dr)\n",
    "    tau_nu = 0\n",
    "\n",
    "    # for each dr, calculate and add up d\\tau at the r+dr position\n",
    "    for r in dr_array:\n",
    "        #print(r)\n",
    "        alpha_nu = abs_coeff_r(T, nu, n_0, r)\n",
    "        tau_nu += alpha_nu*dr\n",
    "    \n",
    "    return tau_nu"
   ]
  },
  {
   "cell_type": "markdown",
   "metadata": {},
   "source": [
    "The method I use in calculating the optical depth (OD) is by summing all the contributions from each new r + dr times the AC at that r."
   ]
  },
  {
   "cell_type": "code",
   "execution_count": 171,
   "metadata": {},
   "outputs": [
    {
     "name": "stdout",
     "output_type": "stream",
     "text": [
      "21921174.088152245\n"
     ]
    }
   ],
   "source": [
    "example_OD = opt_depth(pc)\n",
    "print(example_OD)"
   ]
  },
  {
   "cell_type": "code",
   "execution_count": 172,
   "metadata": {},
   "outputs": [],
   "source": [
    "# constant in cgs units\n",
    "au = 1.49597871 * (10**13) # cm\n",
    "\n",
    "#2D grid\n",
    "L_grid = 100\n",
    "wind_coordinate_system = np.linspace((-0.03*au, -0.03*au), (0.03*au, 0.03*au), L_grid) # axes of x & y, this is not a 2d grid!\n",
    "\n",
    "# here we fill the grid with the corresponding number density at position (x,y)\n",
    "# now using numpy meshgrid, was originally two for loops which is very inefficient\n",
    "x, y = np.meshgrid(wind_coordinate_system[:, 0], wind_coordinate_system[:, 1], indexing='ij')\n",
    "r = (x**2 + y**2)**0.5 # 2d grid with r vector\n",
    "\n",
    "# calculate the density profile which goes as r^-2\n",
    "n = n_0 * r**(-2) # 2d grid with number density profile\n"
   ]
  },
  {
   "cell_type": "code",
   "execution_count": 173,
   "metadata": {},
   "outputs": [
    {
     "data": {
      "text/plain": [
       "<matplotlib.image.AxesImage at 0x23dcf578580>"
      ]
     },
     "execution_count": 173,
     "metadata": {},
     "output_type": "execute_result"
    },
    {
     "data": {
      "image/png": "[encoded data removed]",
      "text/plain": [
       "<Figure size 432x288 with 1 Axes>"
      ]
     },
     "metadata": {
      "needs_background": "light"
     },
     "output_type": "display_data"
    }
   ],
   "source": [
    "from matplotlib.colors import LogNorm\n",
    "\n",
    "#log normalized plot of a slice of the wind\n",
    "plt.imshow(n, norm=LogNorm())"
   ]
  },
  {
   "cell_type": "markdown",
   "metadata": {},
   "source": [
    "Above, I have made a 2D grid of coordinates x & y. The center of the wind is taken as the origin of the grid. This grid took inspiration from the right figure in fig. 2 in Kavanagh et al. (2020). The density profile is calculated using n = n_0 * r^-2 and r is simply the direct distance from the origin to point (x,y). I might make a color diagram to see if the density profile is symmetrically (and thus correctly) distributed from the origin over the grid.\n",
    "\n",
    "Here is the important part: r in the number density is taken as a radius with origin of the wind. d in the optical depth is the distance where the observer's position is the origin. This distance d is defined along the line of sight which is what we use to determine the OD of this grid in the following note/block."
   ]
  },
  {
   "cell_type": "code",
   "execution_count": 174,
   "metadata": {},
   "outputs": [],
   "source": [
    "# more convenient absorption coefficient\n",
    "# took the (for now) constants inside the functions\n",
    "def alpha_r(r):\n",
    "    \"\"\"Calculate the absorption coefficient with only r dependence, \n",
    "    holding T, nu & n_0 at constant example values.\n",
    "    \"\"\"\n",
    "    T = 10**6  # K\n",
    "    nu = 10 ** 8 # Hz = 100 MHz\n",
    "    n_0 = 10**8  # cm^-3\n",
    "\n",
    "    C = 3.692 * (10**8)\n",
    "    BB = 1 - np.exp(-(h * nu) / (k_B * T))\n",
    "    g = (\n",
    "        10.6 + 1.9 * np.log10(T) + 1.26 * np.log10(nu)\n",
    "    )\n",
    "    return (C * BB * g * (n_0**2)) / (np.sqrt(T) * (nu**3) * 4 * (r**4))"
   ]
  },
  {
   "cell_type": "code",
   "execution_count": 175,
   "metadata": {},
   "outputs": [
    {
     "name": "stdout",
     "output_type": "stream",
     "text": [
      "1.2889259272914173e-43\n"
     ]
    }
   ],
   "source": [
    "# trying integration by summing over d\\tau contributions\n",
    "x1 = R_sun\n",
    "x2 = 0.03*au\n",
    "N = 100\n",
    "D = x2-x1\n",
    "tau = 0\n",
    "dx = D/N\n",
    "\n",
    "for i in range(N):\n",
    "    xi = ((i+1)/100)* D + x1\n",
    "    #if xi == 0:\n",
    "    #    print(f\"found zero x at i = {i}\")\n",
    "    alpha = alpha_r(xi)\n",
    "    tau+= alpha*dx\n",
    "\n",
    "print(tau)"
   ]
  },
  {
   "cell_type": "code",
   "execution_count": 176,
   "metadata": {},
   "outputs": [
    {
     "name": "stdout",
     "output_type": "stream",
     "text": [
      "(1.399495222279737e-43, 1.3102110347624868e-46)\n"
     ]
    }
   ],
   "source": [
    "import scipy.integrate as integrate\n",
    "# trying scipy integration functions: quad\n",
    "\n",
    "test = integrate.quad(lambda x: alpha_r(x), R_sun, 0.03*au)\n",
    "print(test)"
   ]
  },
  {
   "cell_type": "markdown",
   "metadata": {},
   "source": [
    "using my own summation method of integation gives a result comparable to scipy.integrate function. Note that the result is only half the desired integrated length throughout the line of sight, since it runs from R_sun to 0.03AU. But this is the case for both integration methods. This is to avoid division by zero.\n",
    "My question now is why the result is such a small number, is this normal?\n",
    "\n",
    "Next I am gonna try the integrate.trapezoid integration as discussed during the meeting on monday (170624). I have to figure out it works first."
   ]
  },
  {
   "cell_type": "code",
   "execution_count": 177,
   "metadata": {},
   "outputs": [
    {
     "name": "stdout",
     "output_type": "stream",
     "text": [
      "6.190090779208355e-39\n"
     ]
    }
   ],
   "source": [
    "# trying trapezoid integral\n",
    "ix = wind_coordinate_system[:,0]\n",
    "iy = alpha_r(ix)\n",
    "trapezoid_integral = integrate.trapezoid(iy, x=ix)\n",
    "print(trapezoid_integral)"
   ]
  },
  {
   "cell_type": "code",
   "execution_count": 178,
   "metadata": {},
   "outputs": [
    {
     "name": "stdout",
     "output_type": "stream",
     "text": [
      "1.4067526591418841e-72\n"
     ]
    }
   ],
   "source": [
    "# trying with observer as origin, with the star at a distance 1 pc\n",
    "ix = pc + wind_coordinate_system[:,0]\n",
    "iy = alpha_r(ix)\n",
    "tau_los = integrate.trapezoid(iy, x=ix) #along line of sight\n",
    "print(tau_los)"
   ]
  },
  {
   "cell_type": "markdown",
   "metadata": {},
   "source": [
    "The AC repends on r, which has its origin at the stars location. The OD has its origin at the distant observer, so we need some method to change r to x along the line of sight. "
   ]
  },
  {
   "cell_type": "code",
   "execution_count": 179,
   "metadata": {},
   "outputs": [
    {
     "name": "stdout",
     "output_type": "stream",
     "text": [
      "2.0203631700517068e-45\n"
     ]
    }
   ],
   "source": [
    "# converting r to x (line of sight)\n",
    "ix = wind_coordinate_system[:,0] # x-axis\n",
    "y_height = wind_coordinate_system[-1, 1] # top value on y-axis\n",
    "ir = (ix**2 + y_height**2)**0.5\n",
    "iy = alpha_r(ir)\n",
    "tau_top = integrate.trapezoid(iy, x=ix)\n",
    "print(tau_top)"
   ]
  },
  {
   "cell_type": "code",
   "execution_count": 180,
   "metadata": {},
   "outputs": [],
   "source": [
    "tau = []\n",
    "\n",
    "for y_height in wind_coordinate_system[:,1]: # for every value on the y-axis        \n",
    "    ir = (ix**2 + y_height**2)**0.5\n",
    "    iy = alpha_r(ir)\n",
    "\n",
    "    # integrate to find the optical depth \"per y-layer\"\n",
    "    tau_max = integrate.trapezoid(iy, x=ix)\n",
    "    tau.append(tau_max)"
   ]
  },
  {
   "cell_type": "code",
   "execution_count": 181,
   "metadata": {},
   "outputs": [
    {
     "data": {
      "image/png": "[encoded data removed]",
      "text/plain": [
       "<Figure size 432x288 with 1 Axes>"
      ]
     },
     "metadata": {
      "needs_background": "light"
     },
     "output_type": "display_data"
    }
   ],
   "source": [
    "# plot to see if the OD values per y-layer make sense\n",
    "plt.plot(tau, ix)\n",
    "plt.ylabel(\"height (cm)\")\n",
    "plt.xlabel(\"optical depth\")\n",
    "plt.show()"
   ]
  },
  {
   "cell_type": "markdown",
   "metadata": {},
   "source": [
    "This plot is incorrect, as the absorption within and behind the star do not contribute to the optical depth. In the next blocks, I will take this into account. "
   ]
  },
  {
   "cell_type": "code",
   "execution_count": 182,
   "metadata": {},
   "outputs": [],
   "source": [
    "# using x and y values to also determine wether a position is indide or behind the star\n",
    "def alpha_xy(x,y):\n",
    "    \"\"\"Calculate the absorption coefficient with only x and y dependence, \n",
    "    holding T, nu & n_0 at constant example values.\n",
    "    Returns zero if (x,y) is inside or behind the star with R = R_sun\n",
    "    \"\"\"\n",
    "    T = 10**6  # K\n",
    "    nu = 10 ** 8 # Hz = 100 MHz\n",
    "    n_0 = 10**8  # cm^-3\n",
    "\n",
    "    C = 3.692 * (10**8)\n",
    "    BB = 1 - np.exp(-(h * nu) / (k_B * T))\n",
    "    g = (\n",
    "        10.6 + 1.9 * np.log10(T) + 1.26 * np.log10(nu)\n",
    "    )\n",
    "    r = (x**2 + y**2)**0.5\n",
    "    if r <= R_sun:  # if position is within the radius of the star, the absorption coefficient is zero\n",
    "        C=0\n",
    "    elif np.abs(y) <= R_sun: # additionally rule out positions that are behind the star\n",
    "        if x > 0:\n",
    "            C=0\n",
    "    return (C * BB * g * (n_0**2)) / (np.sqrt(T) * (nu**3) * 4 * (r**4))"
   ]
  },
  {
   "cell_type": "code",
   "execution_count": 183,
   "metadata": {},
   "outputs": [],
   "source": [
    "tau = []\n",
    "\n",
    "#using x and y coordinates to exclude position within and behind star\n",
    "for y_height in wind_coordinate_system[:,1]: # for every value on the y-axis        \n",
    "    iy = [alpha_xy(x, y_height) for x in ix]\n",
    "\n",
    "    # integrate to find the optical depth \"per y-layer\"\n",
    "    tau_max = integrate.trapezoid(iy, x=ix)\n",
    "    tau.append(tau_max)"
   ]
  },
  {
   "cell_type": "code",
   "execution_count": 184,
   "metadata": {},
   "outputs": [
    {
     "data": {
      "image/png": "[encoded data removed]",
      "text/plain": [
       "<Figure size 432x288 with 1 Axes>"
      ]
     },
     "metadata": {
      "needs_background": "light"
     },
     "output_type": "display_data"
    }
   ],
   "source": [
    "# plot to see if the OD values per y-layer make sense\n",
    "plt.plot(tau, ix)\n",
    "plt.ylabel(\"height (cm)\")\n",
    "plt.xlabel(\"optical depth\")\n",
    "plt.show()"
   ]
  },
  {
   "cell_type": "markdown",
   "metadata": {},
   "source": [
    "This plot makes more sense, as the central y-height blocks a lot of space and absorption that we do not observe"
   ]
  },
  {
   "cell_type": "code",
   "execution_count": 187,
   "metadata": {},
   "outputs": [],
   "source": [
    "# the blackbody term is constant for const T and nu\n",
    "B = ((2*h*nu**3)/(c**2))*(np.exp((h*nu)/(k_B*T)) - 1)**(-1)\n",
    "def I_tau(tau_max): # the intensity given a maximum optical depth\n",
    "    return B*(1 - np.exp(-tau_max))\n",
    "\n",
    "I = [I_tau(x) for x in tau]"
   ]
  },
  {
   "cell_type": "code",
   "execution_count": 188,
   "metadata": {},
   "outputs": [
    {
     "data": {
      "image/png": "[encoded data removed]",
      "text/plain": [
       "<Figure size 432x288 with 1 Axes>"
      ]
     },
     "metadata": {
      "needs_background": "light"
     },
     "output_type": "display_data"
    }
   ],
   "source": [
    "plt.plot(I, ix)\n",
    "plt.ylabel(\"height (cm)\")\n",
    "plt.xlabel(\"Intensity\")\n",
    "plt.show()"
   ]
  },
  {
   "cell_type": "markdown",
   "metadata": {},
   "source": [
    "This is a problem, probably caused by me not calculating the absoption coefficient correctly. It seems these values are too small and in turn, cause the exponent in the formula for the intensity to result in 1.0."
   ]
  },
  {
   "cell_type": "code",
   "execution_count": null,
   "metadata": {},
   "outputs": [],
   "source": []
  },
  {
   "cell_type": "code",
   "execution_count": 192,
   "metadata": {},
   "outputs": [
    {
     "ename": "TypeError",
     "evalue": "'int' object is not iterable",
     "output_type": "error",
     "traceback": [
      "\u001b[1;31m---------------------------------------------------------------------------\u001b[0m",
      "\u001b[1;31mTypeError\u001b[0m                                 Traceback (most recent call last)",
      "\u001b[1;32m~\\AppData\\Local\\Temp/ipykernel_19488/1766666437.py\u001b[0m in \u001b[0;36m<module>\u001b[1;34m\u001b[0m\n\u001b[0;32m      3\u001b[0m \u001b[0mhalf_iy\u001b[0m \u001b[1;33m=\u001b[0m \u001b[1;33m[\u001b[0m\u001b[1;33m]\u001b[0m\u001b[1;33m\u001b[0m\u001b[1;33m\u001b[0m\u001b[0m\n\u001b[0;32m      4\u001b[0m \u001b[0mhalf_I\u001b[0m \u001b[1;33m=\u001b[0m \u001b[1;33m[\u001b[0m\u001b[1;33m]\u001b[0m\u001b[1;33m\u001b[0m\u001b[1;33m\u001b[0m\u001b[0m\n\u001b[1;32m----> 5\u001b[1;33m \u001b[1;32mfor\u001b[0m \u001b[0mi\u001b[0m \u001b[1;32min\u001b[0m \u001b[0mL_grid\u001b[0m\u001b[1;33m:\u001b[0m\u001b[1;33m\u001b[0m\u001b[1;33m\u001b[0m\u001b[0m\n\u001b[0m\u001b[0;32m      6\u001b[0m     \u001b[1;32mif\u001b[0m \u001b[0mwind_coordinate_system\u001b[0m\u001b[1;33m[\u001b[0m\u001b[0mi\u001b[0m\u001b[1;33m,\u001b[0m\u001b[1;36m1\u001b[0m\u001b[1;33m]\u001b[0m \u001b[1;33m>\u001b[0m \u001b[0mR_sun\u001b[0m\u001b[1;33m:\u001b[0m\u001b[1;33m\u001b[0m\u001b[1;33m\u001b[0m\u001b[0m\n\u001b[0;32m      7\u001b[0m         \u001b[0mhalf_iy\u001b[0m\u001b[1;33m.\u001b[0m\u001b[0mappend\u001b[0m\u001b[1;33m(\u001b[0m\u001b[0mix\u001b[0m\u001b[1;33m[\u001b[0m\u001b[0mi\u001b[0m\u001b[1;33m]\u001b[0m\u001b[1;33m)\u001b[0m\u001b[1;33m\u001b[0m\u001b[1;33m\u001b[0m\u001b[0m\n",
      "\u001b[1;31mTypeError\u001b[0m: 'int' object is not iterable"
     ]
    }
   ],
   "source": [
    "# attempt to calculate the flux\n",
    "\n",
    "half_iy = []\n",
    "half_I = []\n",
    "for i in L_grid:\n",
    "    if wind_coordinate_system[i,1] > R_sun:\n",
    "        half_iy.append(ix[i])\n",
    "        half_I.append(I[i])\n",
    "\n",
    "Flux = 2*np.pi*integrate.trapezoid(half_I, x=half_iy)"
   ]
  },
  {
   "cell_type": "code",
   "execution_count": null,
   "metadata": {},
   "outputs": [],
   "source": []
  }
 ],
 "metadata": {
  "kernelspec": {
   "display_name": "zon",
   "language": "python",
   "name": "python3"
  },
  "language_info": {
   "codemirror_mode": {
    "name": "ipython",
    "version": 3
   },
   "file_extension": ".py",
   "mimetype": "text/x-python",
   "name": "python",
   "nbconvert_exporter": "python",
   "pygments_lexer": "ipython3",
   "version": "3.9.7"
  }
 },
 "nbformat": 4,
 "nbformat_minor": 2
}
